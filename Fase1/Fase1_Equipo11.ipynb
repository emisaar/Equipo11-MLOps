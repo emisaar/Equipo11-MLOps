{
 "cells": [
  {
   "cell_type": "markdown",
   "id": "6f98d99a",
   "metadata": {},
   "source": [
    "# Fase 1 | Avance de Proyecto\n",
    "---"
   ]
  },
  {
   "cell_type": "markdown",
   "id": "bbbbd98d",
   "metadata": {},
   "source": [
    "**MAESTRÍA EN INTELIGENCIA ARTIFICIAL APLICADA**\n",
    "\n",
    "**Curso: TC5044.10 - Operaciones de aprendizaje automático**\n",
    "\n",
    "Tecnológico de Monterrey\n",
    "\n",
    "**Fase 1** - Procesamiento y Modelado Inicial\n",
    "\n",
    "**Fecha de entrega** - 12 de octubre del 2025\n",
    "\n",
    "---"
   ]
  },
  {
   "cell_type": "markdown",
   "id": "4039b80f",
   "metadata": {},
   "source": [
    "**Equipo 11**\n",
    "\n",
    "|  NOMBRE COMPLETO                        |     MATRÍCULA     |\n",
    "| :-------------------------------------: |:-----------------:|\n",
    "|                 |  A0XXXXXXX        |\n",
    "|                 |  A0XXXXXXX        |\n",
    "|                 |  A0XXXXXXX        |\n",
    "|                 |  A0XXXXXXX        |"
   ]
  }
 ],
 "metadata": {
  "language_info": {
   "name": "python"
  }
 },
 "nbformat": 4,
 "nbformat_minor": 5
}
